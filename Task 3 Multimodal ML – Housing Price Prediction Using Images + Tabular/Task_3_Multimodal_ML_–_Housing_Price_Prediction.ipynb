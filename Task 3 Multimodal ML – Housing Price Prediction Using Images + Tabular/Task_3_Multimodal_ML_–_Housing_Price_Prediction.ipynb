{
  "nbformat": 4,
  "nbformat_minor": 0,
  "metadata": {
    "colab": {
      "provenance": []
    },
    "kernelspec": {
      "name": "python3",
      "display_name": "Python 3"
    },
    "language_info": {
      "name": "python"
    }
  },
  "cells": [
    {
      "cell_type": "markdown",
      "source": [
        "# Task 3: Multimodal ML – Housing Price Prediction Using Images + Tabular Data"
      ],
      "metadata": {
        "id": "N6RmiqbNoZRG"
      }
    },
    {
      "cell_type": "markdown",
      "source": [
        "## Goal (Objective)\n",
        "\n",
        "  Build a multimodal machine learning model that can predict the price of a house by learning from:\n",
        "\n",
        "1.Structured/tabular data – e.g., number of rooms, location, area (sq ft), etc.\n",
        "\n",
        "2.Images of the house – e.g., front elevation, interior, etc."
      ],
      "metadata": {
        "id": "tD-pbgzdoZHH"
      }
    },
    {
      "cell_type": "markdown",
      "source": [
        "Step 1: Mount Google Drive & Set Paths"
      ],
      "metadata": {
        "id": "2n8t8J5sKewr"
      }
    },
    {
      "cell_type": "code",
      "source": [
        "from google.colab import drive\n",
        "import os\n",
        "\n",
        "# Mount Google Drive\n",
        "drive.mount('/content/drive')\n",
        "\n",
        "# Set image folder path inside your Drive\n",
        "IMG_DIR = '/content/drive/MyDrive/socal_pics'\n",
        "\n",
        "# Optional: path to save intermediate progress\n",
        "SAVE_PATH = '/content/drive/MyDrive/image_tabular_progress.pkl'\n"
      ],
      "metadata": {
        "colab": {
          "base_uri": "https://localhost:8080/"
        },
        "id": "HlxB6b8TKjze",
        "outputId": "04e7b9a6-834d-47c6-e17f-fad8dc43b508"
      },
      "execution_count": 2,
      "outputs": [
        {
          "output_type": "stream",
          "name": "stdout",
          "text": [
            "Drive already mounted at /content/drive; to attempt to forcibly remount, call drive.mount(\"/content/drive\", force_remount=True).\n"
          ]
        }
      ]
    },
    {
      "cell_type": "markdown",
      "source": [
        "Install and Import Libraries"
      ],
      "metadata": {
        "id": "cvYpqBUrWShB"
      }
    },
    {
      "cell_type": "code",
      "source": [
        "import os\n",
        "import numpy as np\n",
        "import pandas as pd\n",
        "import matplotlib.pyplot as plt\n",
        "import seaborn as sns\n",
        "from sklearn.model_selection import train_test_split\n",
        "from sklearn.preprocessing import StandardScaler, LabelEncoder\n",
        "from sklearn.metrics import mean_absolute_error, mean_squared_error\n",
        "import cv2\n",
        "from tensorflow.keras.applications import MobileNetV2\n",
        "from tensorflow.keras.applications.mobilenet_v2 import preprocess_input\n",
        "from tensorflow.keras.preprocessing.image import img_to_array, load_img\n",
        "from tensorflow.keras.models import Model\n",
        "from tensorflow.keras.layers import Input, Dense, Concatenate\n",
        "from tensorflow.keras.models import Sequential\n"
      ],
      "metadata": {
        "id": "Abl50_9zWLWc"
      },
      "execution_count": 1,
      "outputs": []
    },
    {
      "cell_type": "markdown",
      "source": [
        "Step 1: Load the Tabular Data and Preview It"
      ],
      "metadata": {
        "id": "mMxXQdk-oYu3"
      }
    },
    {
      "cell_type": "code",
      "execution_count": 2,
      "metadata": {
        "colab": {
          "base_uri": "https://localhost:8080/"
        },
        "id": "lUuF12u4oC-2",
        "outputId": "7e0828f5-4290-4515-bfbb-4490d9500b6a"
      },
      "outputs": [
        {
          "output_type": "stream",
          "name": "stdout",
          "text": [
            "Columns: ['image_id', 'street', 'citi', 'n_citi', 'bed', 'bath', 'sqft', 'price']\n",
            "   n_citi  bed  bath  sqft   price  image_id\n",
            "0     317    3   2.0  1560  201900         0\n",
            "1      48    3   2.0   713  228500         1\n",
            "2     152    3   1.0   800  273950         2\n",
            "3      48    3   1.0  1082  350000         3\n",
            "4      55    4   3.0  2547  385100         4\n",
            " Cleaned tabular data shape: (15474, 6)\n"
          ]
        }
      ],
      "source": [
        "import pandas as pd\n",
        "\n",
        "# Load the tabular dataset\n",
        "df = pd.read_csv('listings.csv')\n",
        "\n",
        "# Show column names to verify structure\n",
        "print(\"Columns:\", df.columns.tolist())\n",
        "\n",
        "# Clean and select numeric features only\n",
        "df_clean = df[['n_citi', 'bed', 'bath', 'sqft', 'price' ]].copy()\n",
        "\n",
        "# Drop rows with missing values\n",
        "df_clean.dropna(inplace=True)\n",
        "\n",
        "# Add image_id column assuming images are named 0.jpg, 1.jpg, ..., matching dataframe index\n",
        "df_clean = df_clean.reset_index(drop=True)\n",
        "df_clean['image_id'] = df_clean.index\n",
        "\n",
        "# Show sample\n",
        "print(df_clean.head())\n",
        "print(\" Cleaned tabular data shape:\", df_clean.shape)\n"
      ]
    },
    {
      "cell_type": "markdown",
      "source": [
        "Step 3: Load First 2000 Matching Images"
      ],
      "metadata": {
        "id": "JefHMNrCLKqE"
      }
    },
    {
      "cell_type": "code",
      "source": [
        "import cv2\n",
        "import numpy as np\n",
        "import os\n",
        "from tqdm import tqdm\n",
        "\n",
        "# Set image folder path\n",
        "IMG_DIR = \"/content/drive/MyDrive/socal_pics\"\n",
        "\n",
        "# Fix image_id type and select first 4000\n",
        "df_subset = df_clean.copy()\n",
        "df_subset['image_id'] = df_subset['image_id'].astype(int)\n",
        "df_subset = df_subset.iloc[:2000]\n",
        "\n",
        "# Initialize lists\n",
        "X_images = []\n",
        "X_tabular = []\n",
        "y_ids = []\n",
        "\n",
        "for idx, row in tqdm(df_subset.iterrows(), total=len(df_subset)):\n",
        "    img_id = row['image_id']\n",
        "\n",
        "    # 👇 Ensure correct filename (no .0)\n",
        "    img_path = os.path.join(IMG_DIR, f\"{int(img_id)}.jpg\")\n",
        "\n",
        "    img = cv2.imread(img_path)\n",
        "    if img is not None:\n",
        "        img = cv2.resize(img, (224, 224))\n",
        "        img = img / 255.0\n",
        "        X_images.append(img)\n",
        "        X_tabular.append([row['n_citi'], row['bed'], row['bath'], row['sqft']])\n",
        "        y_ids.append(img_id)\n",
        "    else:\n",
        "        print(f\" Image not found: {img_path}\")\n",
        "\n",
        "\n",
        "# Convert to numpy arrays\n",
        "X_images_np = np.array(X_images)\n",
        "X_tabular_np = np.array(X_tabular)\n",
        "\n",
        "print(\" Loaded image data shape:\", X_images_np.shape)\n",
        "print(\" Loaded tabular data shape:\", X_tabular_np.shape)\n"
      ],
      "metadata": {
        "colab": {
          "base_uri": "https://localhost:8080/"
        },
        "id": "AENn3BdGLLzO",
        "outputId": "8878a648-9daa-438c-b477-6ce2ec711b74"
      },
      "execution_count": 3,
      "outputs": [
        {
          "output_type": "stream",
          "name": "stderr",
          "text": [
            "100%|██████████| 2000/2000 [00:24<00:00, 80.47it/s] \n"
          ]
        },
        {
          "output_type": "stream",
          "name": "stdout",
          "text": [
            " Loaded image data shape: (2000, 224, 224, 3)\n",
            " Loaded tabular data shape: (2000, 4)\n"
          ]
        }
      ]
    },
    {
      "cell_type": "markdown",
      "source": [
        " Step 4: Build & Train Multimodal Model (CNN + Tabular)"
      ],
      "metadata": {
        "id": "79-OMwtyMf6i"
      }
    },
    {
      "cell_type": "code",
      "source": [
        "import tensorflow as tf\n",
        "from tensorflow.keras import layers, models, Input, Model\n"
      ],
      "metadata": {
        "id": "xBT_pzvfMxId"
      },
      "execution_count": 5,
      "outputs": []
    },
    {
      "cell_type": "markdown",
      "source": [
        "Step 4.1: CNN Branch (Image Features)"
      ],
      "metadata": {
        "id": "N_puwLDYMqxR"
      }
    },
    {
      "cell_type": "code",
      "source": [
        "image_input = Input(shape=(224, 224, 3), name='image_input')\n",
        "\n",
        "x = layers.Conv2D(32, (3, 3), activation='relu')(image_input)\n",
        "x = layers.MaxPooling2D((2, 2))(x)\n",
        "x = layers.Conv2D(64, (3, 3), activation='relu')(x)\n",
        "x = layers.MaxPooling2D((2, 2))(x)\n",
        "x = layers.Conv2D(128, (3, 3), activation='relu')(x)\n",
        "x = layers.GlobalAveragePooling2D()(x)\n",
        "x = layers.Dense(64, activation='relu')(x)\n"
      ],
      "metadata": {
        "id": "2itf-hrzMlLk"
      },
      "execution_count": 6,
      "outputs": []
    },
    {
      "cell_type": "markdown",
      "source": [
        " Step 4.2: Tabular Branch"
      ],
      "metadata": {
        "id": "F4MLDoYrM0IE"
      }
    },
    {
      "cell_type": "code",
      "source": [
        "tabular_input = Input(shape=(4,), name='tabular_input')  # 4 tabular features\n",
        "y = layers.Dense(32, activation='relu')(tabular_input)\n",
        "y = layers.Dense(16, activation='relu')(y)\n"
      ],
      "metadata": {
        "id": "9zYyyev6M2tk"
      },
      "execution_count": 7,
      "outputs": []
    },
    {
      "cell_type": "markdown",
      "source": [
        "Step 4.3: Combine Both Branches"
      ],
      "metadata": {
        "id": "5bAmujBxM8FH"
      }
    },
    {
      "cell_type": "code",
      "source": [
        "combined = layers.concatenate([x, y])\n",
        "z = layers.Dense(64, activation='relu')(combined)\n",
        "z = layers.Dense(32, activation='relu')(z)\n",
        "output = layers.Dense(1)(z)  # Regression output\n",
        "\n",
        "model = Model(inputs=[image_input, tabular_input], outputs=output)\n"
      ],
      "metadata": {
        "id": "e_fMVgQhM4--"
      },
      "execution_count": 8,
      "outputs": []
    },
    {
      "cell_type": "code",
      "source": [
        "loaded_image_ids = []  # already used during image loading\n"
      ],
      "metadata": {
        "id": "ROmeDKmXO09g"
      },
      "execution_count": 9,
      "outputs": []
    },
    {
      "cell_type": "code",
      "source": [
        "# Recreate df_matched\n",
        "df_matched = df_clean[df_clean['image_id'].isin(loaded_image_ids)].reset_index(drop=True)\n",
        "\n",
        "# Now get the target labels\n",
        "y_np = df_matched['price'].values\n"
      ],
      "metadata": {
        "id": "9MWrcmRsO3QF"
      },
      "execution_count": 10,
      "outputs": []
    },
    {
      "cell_type": "code",
      "source": [
        "y_np = df_clean['price'].values[:2000]  # Make sure it matches exactly\n"
      ],
      "metadata": {
        "id": "7rZw4ZdVjeB4"
      },
      "execution_count": 11,
      "outputs": []
    },
    {
      "cell_type": "markdown",
      "source": [
        " Step 4.4: Compile and Train"
      ],
      "metadata": {
        "id": "oi5ms_pKNAQg"
      }
    },
    {
      "cell_type": "code",
      "source": [
        "from sklearn.model_selection import train_test_split\n",
        "\n",
        "# Split 2000 sample data\n",
        "X_img_train, X_img_val, X_tab_train, X_tab_val, y_train, y_val = train_test_split(\n",
        "    X_images_np, X_tabular_np, y_np, test_size=0.2, random_state=42\n",
        ")\n"
      ],
      "metadata": {
        "id": "4mE0oPUyqP08"
      },
      "execution_count": 12,
      "outputs": []
    },
    {
      "cell_type": "code",
      "source": [
        "model.compile(optimizer='adam', loss='mse', metrics=['mae'])\n",
        "\n",
        "history = model.fit(\n",
        "    [X_images_np, X_tabular_np], y_np,\n",
        "    epochs=5,\n",
        "    batch_size=16,\n",
        "    validation_split=0.2\n",
        ")\n"
      ],
      "metadata": {
        "colab": {
          "base_uri": "https://localhost:8080/"
        },
        "id": "3WcWxLGBM91l",
        "outputId": "59536218-4a41-41ff-b937-87ddd6a0d8d3"
      },
      "execution_count": 13,
      "outputs": [
        {
          "output_type": "stream",
          "name": "stdout",
          "text": [
            "Epoch 1/5\n",
            "\u001b[1m100/100\u001b[0m \u001b[32m━━━━━━━━━━━━━━━━━━━━\u001b[0m\u001b[37m\u001b[0m \u001b[1m193s\u001b[0m 2s/step - loss: 534361374720.0000 - mae: 559018.3125 - val_loss: 7222626304.0000 - val_mae: 65840.2578\n",
            "Epoch 2/5\n",
            "\u001b[1m100/100\u001b[0m \u001b[32m━━━━━━━━━━━━━━━━━━━━\u001b[0m\u001b[37m\u001b[0m \u001b[1m182s\u001b[0m 2s/step - loss: 239263416320.0000 - mae: 346870.9688 - val_loss: 8095463936.0000 - val_mae: 72821.8672\n",
            "Epoch 3/5\n",
            "\u001b[1m100/100\u001b[0m \u001b[32m━━━━━━━━━━━━━━━━━━━━\u001b[0m\u001b[37m\u001b[0m \u001b[1m201s\u001b[0m 2s/step - loss: 203553718272.0000 - mae: 314568.3750 - val_loss: 12639587328.0000 - val_mae: 87546.3281\n",
            "Epoch 4/5\n",
            "\u001b[1m100/100\u001b[0m \u001b[32m━━━━━━━━━━━━━━━━━━━━\u001b[0m\u001b[37m\u001b[0m \u001b[1m177s\u001b[0m 2s/step - loss: 204076466176.0000 - mae: 333734.8750 - val_loss: 7636324864.0000 - val_mae: 62206.9766\n",
            "Epoch 5/5\n",
            "\u001b[1m100/100\u001b[0m \u001b[32m━━━━━━━━━━━━━━━━━━━━\u001b[0m\u001b[37m\u001b[0m \u001b[1m186s\u001b[0m 2s/step - loss: 213684224000.0000 - mae: 350635.8750 - val_loss: 11276226560.0000 - val_mae: 82159.0078\n"
          ]
        }
      ]
    },
    {
      "cell_type": "markdown",
      "source": [
        " Step 5: Model Evaluation (MAE, RMSE)"
      ],
      "metadata": {
        "id": "4ac7WxE2p9Qk"
      }
    },
    {
      "cell_type": "code",
      "source": [
        "from sklearn.metrics import mean_absolute_error, mean_squared_error\n",
        "import numpy as np\n",
        "\n",
        "y_pred = model.predict([X_img_val, X_tab_val])\n",
        "\n",
        "mae = mean_absolute_error(y_val, y_pred)\n",
        "rmse = np.sqrt(mean_squared_error(y_val, y_pred))\n",
        "\n",
        "print(f\" MAE: {mae:.2f}\")\n",
        "print(f\" RMSE: {rmse:.2f}\")\n"
      ],
      "metadata": {
        "colab": {
          "base_uri": "https://localhost:8080/"
        },
        "id": "sw0eQBw6NB8Z",
        "outputId": "15fe3172-83ea-4c4a-a3c6-059d96087dcf"
      },
      "execution_count": 14,
      "outputs": [
        {
          "output_type": "stream",
          "name": "stdout",
          "text": [
            "\u001b[1m13/13\u001b[0m \u001b[32m━━━━━━━━━━━━━━━━━━━━\u001b[0m\u001b[37m\u001b[0m \u001b[1m12s\u001b[0m 914ms/step\n",
            " MAE: 281270.25\n",
            " RMSE: 412646.11\n"
          ]
        }
      ]
    },
    {
      "cell_type": "markdown",
      "source": [
        " Step 6: Visualize Predictions vs Actual"
      ],
      "metadata": {
        "id": "df3MfLV8udwp"
      }
    },
    {
      "cell_type": "code",
      "source": [
        "import matplotlib.pyplot as plt\n",
        "\n",
        "# Predict on validation set\n",
        "y_pred = model.predict([X_img_val, X_tab_val]).flatten()\n",
        "\n",
        "# Plot predicted vs actual\n",
        "plt.figure(figsize=(8,6))\n",
        "plt.scatter(y_val, y_pred, alpha=0.6, color='teal')\n",
        "plt.plot([y_val.min(), y_val.max()], [y_val.min(), y_val.max()], 'r--')\n",
        "plt.xlabel(\"Actual Price\")\n",
        "plt.ylabel(\"Predicted Price\")\n",
        "plt.title(\"Actual vs Predicted House Prices\")\n",
        "plt.grid(True)\n",
        "plt.show()\n"
      ],
      "metadata": {
        "colab": {
          "base_uri": "https://localhost:8080/",
          "height": 581
        },
        "id": "tQASc2BLuelQ",
        "outputId": "04e64cad-ea46-414e-993f-1fd3747a558b"
      },
      "execution_count": 15,
      "outputs": [
        {
          "output_type": "stream",
          "name": "stdout",
          "text": [
            "\u001b[1m13/13\u001b[0m \u001b[32m━━━━━━━━━━━━━━━━━━━━\u001b[0m\u001b[37m\u001b[0m \u001b[1m12s\u001b[0m 894ms/step\n"
          ]
        },
        {
          "output_type": "display_data",
          "data": {
            "text/plain": [
              "<Figure size 800x600 with 1 Axes>"
            ],
            "image/png": "[encoded data removed]"
          },
          "metadata": {}
        }
      ]
    },
    {
      "cell_type": "markdown",
      "source": [
        "Step 7: Save the Trained Model"
      ],
      "metadata": {
        "id": "Xu6vGTCQuw4e"
      }
    },
    {
      "cell_type": "code",
      "source": [
        "# Save the model in HDF5 format\n",
        "model.save(\"multimodal_house_price_model.h5\")\n",
        "print(\" Model saved successfully!\")\n"
      ],
      "metadata": {
        "colab": {
          "base_uri": "https://localhost:8080/"
        },
        "id": "dbwRnbqVuxh-",
        "outputId": "18221192-60d8-4246-d90b-fcfbe4d8409a"
      },
      "execution_count": 16,
      "outputs": [
        {
          "output_type": "stream",
          "name": "stderr",
          "text": [
            "WARNING:absl:You are saving your model as an HDF5 file via `model.save()` or `keras.saving.save_model(model)`. This file format is considered legacy. We recommend using instead the native Keras format, e.g. `model.save('my_model.keras')` or `keras.saving.save_model(model, 'my_model.keras')`. \n"
          ]
        },
        {
          "output_type": "stream",
          "name": "stdout",
          "text": [
            " Model saved successfully!\n"
          ]
        }
      ]
    },
    {
      "cell_type": "markdown",
      "source": [
        "How the Model Predicts"
      ],
      "metadata": {
        "id": "zvLCoafX4g9B"
      }
    },
    {
      "cell_type": "markdown",
      "source": [
        "1. Pick one sample (e.g. index 5)"
      ],
      "metadata": {
        "id": "SW_DX6hl4ptS"
      }
    },
    {
      "cell_type": "code",
      "source": [
        "sample_image = X_images_np[5].reshape(1, 224, 224, 3)\n",
        "sample_tabular = X_tabular_np[5].reshape(1, 4)\n"
      ],
      "metadata": {
        "id": "iGvi35GMwfKn"
      },
      "execution_count": 17,
      "outputs": []
    },
    {
      "cell_type": "markdown",
      "source": [
        " 2. Predict"
      ],
      "metadata": {
        "id": "pPAgVRQ75BIM"
      }
    },
    {
      "cell_type": "code",
      "source": [
        "predicted_price = model.predict([sample_image, sample_tabular])\n",
        "print(f\"Predicted Price: ${predicted_price[0][0]:,.2f}\")\n"
      ],
      "metadata": {
        "colab": {
          "base_uri": "https://localhost:8080/"
        },
        "id": "Mi9Y--FIwhS8",
        "outputId": "7ca2b3a0-b488-411e-c3e7-1307fed7863d"
      },
      "execution_count": 18,
      "outputs": [
        {
          "output_type": "stream",
          "name": "stdout",
          "text": [
            "\u001b[1m1/1\u001b[0m \u001b[32m━━━━━━━━━━━━━━━━━━━━\u001b[0m\u001b[37m\u001b[0m \u001b[1m0s\u001b[0m 82ms/step\n",
            "Predicted Price: $389,973.88\n"
          ]
        }
      ]
    },
    {
      "cell_type": "markdown",
      "source": [
        " 3. Compare with Actual"
      ],
      "metadata": {
        "id": "aO-BnCn75FKR"
      }
    },
    {
      "cell_type": "code",
      "source": [
        "actual_price = y_np[5]\n",
        "print(f\"Actual Price: ${actual_price:,.2f}\")\n"
      ],
      "metadata": {
        "colab": {
          "base_uri": "https://localhost:8080/"
        },
        "id": "pVsWRieUw5JQ",
        "outputId": "eeb839cf-a368-4f00-f46c-8beb60158bf5"
      },
      "execution_count": 19,
      "outputs": [
        {
          "output_type": "stream",
          "name": "stdout",
          "text": [
            "Actual Price: $350,000.00\n"
          ]
        }
      ]
    },
    {
      "cell_type": "markdown",
      "source": [
        "predication for Custom Image Upload + Prediction"
      ],
      "metadata": {
        "id": "oABUZdjx58dE"
      }
    },
    {
      "cell_type": "code",
      "source": [
        "from google.colab import files\n",
        "import cv2\n",
        "import numpy as np\n",
        "import tensorflow as tf\n",
        "\n",
        "# === 1. Upload an image from your local machine ===\n",
        "uploaded = files.upload()  # This will prompt a file upload dialog\n",
        "\n",
        "# === 2. Get the uploaded file name ===\n",
        "img_path = list(uploaded.keys())[0]\n",
        "print(\" Uploaded image:\", img_path)\n",
        "\n",
        "# === 3. Preprocess the image ===\n",
        "img = cv2.imread(img_path)\n",
        "if img is None:\n",
        "    raise FileNotFoundError(f\" Image could not be loaded: {img_path}\")\n",
        "\n",
        "img = cv2.resize(img, (224, 224))\n",
        "img = img / 255.0\n",
        "img = np.expand_dims(img, axis=0)  # (1, 224, 224, 3)\n",
        "\n",
        "# === 4. Enter your own tabular features ===\n",
        "# Example format: [n_citi, bed, bath, sqft]\n",
        "tabular_data = np.array([[174, 3, 2, 1257]])\n",
        "\n",
        "# === 5. Run prediction ===\n",
        "predicted_price = model.predict([img, tabular_data])\n",
        "print(f\" Predicted Price: ${predicted_price[0][0]:,.2f}\")\n"
      ],
      "metadata": {
        "colab": {
          "base_uri": "https://localhost:8080/",
          "height": 125
        },
        "id": "-dDAW9NQyYZs",
        "outputId": "1acfb574-91de-4bbb-c2c6-b87fa1c43ffe"
      },
      "execution_count": 22,
      "outputs": [
        {
          "output_type": "display_data",
          "data": {
            "text/plain": [
              "<IPython.core.display.HTML object>"
            ],
            "text/html": [
              "\n",
              "     <input type=\"file\" id=\"files-e14566a7-c907-4c19-bd70-a4c5b352d322\" name=\"files[]\" multiple disabled\n",
              "        style=\"border:none\" />\n",
              "     <output id=\"result-e14566a7-c907-4c19-bd70-a4c5b352d322\">\n",
              "      Upload widget is only available when the cell has been executed in the\n",
              "      current browser session. Please rerun this cell to enable.\n",
              "      </output>\n",
              "      <script>// Copyright 2017 Google LLC\n",
              "//\n",
              "// Licensed under the Apache License, Version 2.0 (the \"License\");\n",
              "// you may not use this file except in compliance with the License.\n",
              "// You may obtain a copy of the License at\n",
              "//\n",
              "//      http://www.apache.org/licenses/LICENSE-2.0\n",
              "//\n",
              "// Unless required by applicable law or agreed to in writing, software\n",
              "// distributed under the License is distributed on an \"AS IS\" BASIS,\n",
              "// WITHOUT WARRANTIES OR CONDITIONS OF ANY KIND, either express or implied.\n",
              "// See the License for the specific language governing permissions and\n",
              "// limitations under the License.\n",
              "\n",
              "/**\n",
              " * @fileoverview Helpers for google.colab Python module.\n",
              " */\n",
              "(function(scope) {\n",
              "function span(text, styleAttributes = {}) {\n",
              "  const element = document.createElement('span');\n",
              "  element.textContent = text;\n",
              "  for (const key of Object.keys(styleAttributes)) {\n",
              "    element.style[key] = styleAttributes[key];\n",
              "  }\n",
              "  return element;\n",
              "}\n",
              "\n",
              "// Max number of bytes which will be uploaded at a time.\n",
              "const MAX_PAYLOAD_SIZE = 100 * 1024;\n",
              "\n",
              "function _uploadFiles(inputId, outputId) {\n",
              "  const steps = uploadFilesStep(inputId, outputId);\n",
              "  const outputElement = document.getElementById(outputId);\n",
              "  // Cache steps on the outputElement to make it available for the next call\n",
              "  // to uploadFilesContinue from Python.\n",
              "  outputElement.steps = steps;\n",
              "\n",
              "  return _uploadFilesContinue(outputId);\n",
              "}\n",
              "\n",
              "// This is roughly an async generator (not supported in the browser yet),\n",
              "// where there are multiple asynchronous steps and the Python side is going\n",
              "// to poll for completion of each step.\n",
              "// This uses a Promise to block the python side on completion of each step,\n",
              "// then passes the result of the previous step as the input to the next step.\n",
              "function _uploadFilesContinue(outputId) {\n",
              "  const outputElement = document.getElementById(outputId);\n",
              "  const steps = outputElement.steps;\n",
              "\n",
              "  const next = steps.next(outputElement.lastPromiseValue);\n",
              "  return Promise.resolve(next.value.promise).then((value) => {\n",
              "    // Cache the last promise value to make it available to the next\n",
              "    // step of the generator.\n",
              "    outputElement.lastPromiseValue = value;\n",
              "    return next.value.response;\n",
              "  });\n",
              "}\n",
              "\n",
              "/**\n",
              " * Generator function which is called between each async step of the upload\n",
              " * process.\n",
              " * @param {string} inputId Element ID of the input file picker element.\n",
              " * @param {string} outputId Element ID of the output display.\n",
              " * @return {!Iterable<!Object>} Iterable of next steps.\n",
              " */\n",
              "function* uploadFilesStep(inputId, outputId) {\n",
              "  const inputElement = document.getElementById(inputId);\n",
              "  inputElement.disabled = false;\n",
              "\n",
              "  const outputElement = document.getElementById(outputId);\n",
              "  outputElement.innerHTML = '';\n",
              "\n",
              "  const pickedPromise = new Promise((resolve) => {\n",
              "    inputElement.addEventListener('change', (e) => {\n",
              "      resolve(e.target.files);\n",
              "    });\n",
              "  });\n",
              "\n",
              "  const cancel = document.createElement('button');\n",
              "  inputElement.parentElement.appendChild(cancel);\n",
              "  cancel.textContent = 'Cancel upload';\n",
              "  const cancelPromise = new Promise((resolve) => {\n",
              "    cancel.onclick = () => {\n",
              "      resolve(null);\n",
              "    };\n",
              "  });\n",
              "\n",
              "  // Wait for the user to pick the files.\n",
              "  const files = yield {\n",
              "    promise: Promise.race([pickedPromise, cancelPromise]),\n",
              "    response: {\n",
              "      action: 'starting',\n",
              "    }\n",
              "  };\n",
              "\n",
              "  cancel.remove();\n",
              "\n",
              "  // Disable the input element since further picks are not allowed.\n",
              "  inputElement.disabled = true;\n",
              "\n",
              "  if (!files) {\n",
              "    return {\n",
              "      response: {\n",
              "        action: 'complete',\n",
              "      }\n",
              "    };\n",
              "  }\n",
              "\n",
              "  for (const file of files) {\n",
              "    const li = document.createElement('li');\n",
              "    li.append(span(file.name, {fontWeight: 'bold'}));\n",
              "    li.append(span(\n",
              "        `(${file.type || 'n/a'}) - ${file.size} bytes, ` +\n",
              "        `last modified: ${\n",
              "            file.lastModifiedDate ? file.lastModifiedDate.toLocaleDateString() :\n",
              "                                    'n/a'} - `));\n",
              "    const percent = span('0% done');\n",
              "    li.appendChild(percent);\n",
              "\n",
              "    outputElement.appendChild(li);\n",
              "\n",
              "    const fileDataPromise = new Promise((resolve) => {\n",
              "      const reader = new FileReader();\n",
              "      reader.onload = (e) => {\n",
              "        resolve(e.target.result);\n",
              "      };\n",
              "      reader.readAsArrayBuffer(file);\n",
              "    });\n",
              "    // Wait for the data to be ready.\n",
              "    let fileData = yield {\n",
              "      promise: fileDataPromise,\n",
              "      response: {\n",
              "        action: 'continue',\n",
              "      }\n",
              "    };\n",
              "\n",
              "    // Use a chunked sending to avoid message size limits. See b/62115660.\n",
              "    let position = 0;\n",
              "    do {\n",
              "      const length = Math.min(fileData.byteLength - position, MAX_PAYLOAD_SIZE);\n",
              "      const chunk = new Uint8Array(fileData, position, length);\n",
              "      position += length;\n",
              "\n",
              "      const base64 = btoa(String.fromCharCode.apply(null, chunk));\n",
              "      yield {\n",
              "        response: {\n",
              "          action: 'append',\n",
              "          file: file.name,\n",
              "          data: base64,\n",
              "        },\n",
              "      };\n",
              "\n",
              "      let percentDone = fileData.byteLength === 0 ?\n",
              "          100 :\n",
              "          Math.round((position / fileData.byteLength) * 100);\n",
              "      percent.textContent = `${percentDone}% done`;\n",
              "\n",
              "    } while (position < fileData.byteLength);\n",
              "  }\n",
              "\n",
              "  // All done.\n",
              "  yield {\n",
              "    response: {\n",
              "      action: 'complete',\n",
              "    }\n",
              "  };\n",
              "}\n",
              "\n",
              "scope.google = scope.google || {};\n",
              "scope.google.colab = scope.google.colab || {};\n",
              "scope.google.colab._files = {\n",
              "  _uploadFiles,\n",
              "  _uploadFilesContinue,\n",
              "};\n",
              "})(self);\n",
              "</script> "
            ]
          },
          "metadata": {}
        },
        {
          "output_type": "stream",
          "name": "stdout",
          "text": [
            "Saving 1900.jpg to 1900.jpg\n",
            " Uploaded image: 1900.jpg\n",
            "\u001b[1m1/1\u001b[0m \u001b[32m━━━━━━━━━━━━━━━━━━━━\u001b[0m\u001b[37m\u001b[0m \u001b[1m0s\u001b[0m 185ms/step\n",
            " Predicted Price: $459,776.41\n"
          ]
        }
      ]
    }
  ]
}