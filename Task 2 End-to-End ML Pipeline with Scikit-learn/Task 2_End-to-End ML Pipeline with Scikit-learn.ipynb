{
 "cells": [
  {
   "cell_type": "markdown",
   "id": "c888c7b0",
   "metadata": {},
   "source": [
    "# Task 2: End-to-End ML Pipeline with Scikit-learn"
   ]
  },
  {
   "cell_type": "markdown",
   "id": "a4325656",
   "metadata": {},
   "source": [
    "###  Problem Statement\n",
    "Telecom companies lose significant revenue due to customer churn. By predicting churn, they can proactively retain customers.\n",
    "\n",
    "###  Objective\n",
    "- Build an end-to-end ML pipeline to predict customer churn.\n",
    "- Use preprocessing steps like scaling and encoding.\n",
    "- Train models: Logistic Regression & Random Forest.\n",
    "- Tune with GridSearchCV and export pipeline with joblib.\n"
   ]
  },
  {
   "cell_type": "markdown",
   "id": "1136c0a0",
   "metadata": {},
   "source": [
    "**Dataset Loading & Preprocessing**"
   ]
  },
  {
   "cell_type": "markdown",
   "id": "d8f50f1e",
   "metadata": {},
   "source": [
    "Step 1: Import libraries"
   ]
  },
  {
   "cell_type": "code",
   "execution_count": 1,
   "id": "44dafecd",
   "metadata": {},
   "outputs": [],
   "source": [
    "import pandas as pd\n",
    "from sklearn.model_selection import train_test_split\n",
    "from sklearn.preprocessing import StandardScaler, OneHotEncoder\n",
    "from sklearn.compose import ColumnTransformer\n",
    "from sklearn.pipeline import Pipeline\n",
    "from sklearn.impute import SimpleImputer"
   ]
  },
  {
   "cell_type": "markdown",
   "id": "1e3ece02",
   "metadata": {},
   "source": [
    "Step 2: Load dataset"
   ]
  },
  {
   "cell_type": "code",
   "execution_count": 2,
   "id": "870b4ad3",
   "metadata": {},
   "outputs": [],
   "source": [
    "\n",
    "df = pd.read_csv(\"Telco-Customer-Churn.csv\")"
   ]
  },
  {
   "cell_type": "markdown",
   "id": "b90692d1",
   "metadata": {},
   "source": [
    "Step 3: Basic cleanup"
   ]
  },
  {
   "cell_type": "code",
   "execution_count": null,
   "id": "f8e09095",
   "metadata": {},
   "outputs": [],
   "source": [
    "df.drop('customerID', axis=1, inplace=True)\n",
    "df['Churn'] = df['Churn'].map({'Yes': 1, 'No': 0})"
   ]
  },
  {
   "cell_type": "markdown",
   "id": "1ca98e20",
   "metadata": {},
   "source": [
    "Handle total charges (some values are blank)"
   ]
  },
  {
   "cell_type": "code",
   "execution_count": null,
   "id": "6467b2fb",
   "metadata": {},
   "outputs": [
    {
     "name": "stderr",
     "output_type": "stream",
     "text": [
      "C:\\Users\\PC Partner-User1\\AppData\\Local\\Temp\\ipykernel_7408\\3739295290.py:3: FutureWarning: A value is trying to be set on a copy of a DataFrame or Series through chained assignment using an inplace method.\n",
      "The behavior will change in pandas 3.0. This inplace method will never work because the intermediate object on which we are setting values always behaves as a copy.\n",
      "\n",
      "For example, when doing 'df[col].method(value, inplace=True)', try using 'df.method({col: value}, inplace=True)' or df[col] = df[col].method(value) instead, to perform the operation inplace on the original object.\n",
      "\n",
      "\n",
      "  df['TotalCharges'].fillna(df['TotalCharges'].median(), inplace=True)\n"
     ]
    }
   ],
   "source": [
    "df['TotalCharges'] = pd.to_numeric(df['TotalCharges'], errors='coerce')\n",
    "df['TotalCharges'].fillna(df['TotalCharges'].median(), inplace=True)"
   ]
  },
  {
   "cell_type": "markdown",
   "id": "04e5c0b1",
   "metadata": {},
   "source": [
    "Step 4: Define features and target"
   ]
  },
  {
   "cell_type": "code",
   "execution_count": null,
   "id": "062df4ba",
   "metadata": {},
   "outputs": [],
   "source": [
    "X = df.drop('Churn', axis=1)\n",
    "y = df['Churn']"
   ]
  },
  {
   "cell_type": "markdown",
   "id": "4a6c1ceb",
   "metadata": {},
   "source": [
    "Step 5: Split columns by type"
   ]
  },
  {
   "cell_type": "code",
   "execution_count": null,
   "id": "d2a30571",
   "metadata": {},
   "outputs": [],
   "source": [
    "numeric_features = X.select_dtypes(include=['int64', 'float64']).columns.tolist()\n",
    "categorical_features = X.select_dtypes(include=['object']).columns.tolist()"
   ]
  },
  {
   "cell_type": "markdown",
   "id": "05a895a8",
   "metadata": {},
   "source": [
    "**Model Development & Pipeline Construction**"
   ]
  },
  {
   "cell_type": "code",
   "execution_count": 7,
   "id": "6ac6876d",
   "metadata": {},
   "outputs": [],
   "source": [
    "from sklearn.linear_model import LogisticRegression\n",
    "from sklearn.ensemble import RandomForestClassifier"
   ]
  },
  {
   "cell_type": "code",
   "execution_count": 8,
   "id": "ed27eba5",
   "metadata": {},
   "outputs": [],
   "source": [
    "# Preprocessing for numeric\n",
    "numeric_transformer = Pipeline(steps=[\n",
    "    ('imputer', SimpleImputer(strategy='mean')),\n",
    "    ('scaler', StandardScaler())\n",
    "])"
   ]
  },
  {
   "cell_type": "code",
   "execution_count": 9,
   "id": "ae559e2e",
   "metadata": {},
   "outputs": [],
   "source": [
    "# Preprocessing for categorical\n",
    "categorical_transformer = Pipeline(steps=[\n",
    "    ('imputer', SimpleImputer(strategy='most_frequent')),\n",
    "    ('encoder', OneHotEncoder(handle_unknown='ignore'))\n",
    "])"
   ]
  },
  {
   "cell_type": "code",
   "execution_count": 10,
   "id": "2574fa7c",
   "metadata": {},
   "outputs": [],
   "source": [
    "# Combine preprocessors\n",
    "preprocessor = ColumnTransformer(transformers=[\n",
    "    ('num', numeric_transformer, numeric_features),\n",
    "    ('cat', categorical_transformer, categorical_features)\n",
    "])"
   ]
  },
  {
   "cell_type": "code",
   "execution_count": 11,
   "id": "36e7c358",
   "metadata": {},
   "outputs": [],
   "source": [
    "# Build model pipeline (using Random Forest)\n",
    "pipeline = Pipeline(steps=[\n",
    "    ('preprocessor', preprocessor),\n",
    "    ('classifier', RandomForestClassifier())\n",
    "])"
   ]
  },
  {
   "cell_type": "markdown",
   "id": "7212876a",
   "metadata": {},
   "source": [
    "**Hyperparameter Tuning with GridSearchCV**"
   ]
  },
  {
   "cell_type": "code",
   "execution_count": 12,
   "id": "ad6f9855",
   "metadata": {},
   "outputs": [],
   "source": [
    "from sklearn.model_selection import GridSearchCV\n",
    "\n",
    "# Define parameter grid\n",
    "param_grid = {\n",
    "    'classifier__n_estimators': [100, 200],\n",
    "    'classifier__max_depth': [10, 20]\n",
    "}"
   ]
  },
  {
   "cell_type": "code",
   "execution_count": 13,
   "id": "26da60b3",
   "metadata": {},
   "outputs": [],
   "source": [
    "\n",
    "# Split dataset\n",
    "X_train, X_test, y_train, y_test = train_test_split(X, y, test_size=0.2, random_state=42)"
   ]
  },
  {
   "cell_type": "code",
   "execution_count": 14,
   "id": "b83220a6",
   "metadata": {},
   "outputs": [
    {
     "name": "stdout",
     "output_type": "stream",
     "text": [
      "Best parameters: {'classifier__max_depth': 10, 'classifier__n_estimators': 100}\n",
      "Best CV Accuracy: 0.7996088264636304\n"
     ]
    }
   ],
   "source": [
    "\n",
    "# Apply GridSearch\n",
    "grid_search = GridSearchCV(pipeline, param_grid, cv=5, scoring='accuracy', n_jobs=-1)\n",
    "grid_search.fit(X_train, y_train)\n",
    "\n",
    "print(\"Best parameters:\", grid_search.best_params_)\n",
    "print(\"Best CV Accuracy:\", grid_search.best_score_)"
   ]
  },
  {
   "cell_type": "markdown",
   "id": "6c243ca7",
   "metadata": {},
   "source": [
    " **Evaluation with Metrics**"
   ]
  },
  {
   "cell_type": "code",
   "execution_count": 15,
   "id": "7b85f9fa",
   "metadata": {},
   "outputs": [
    {
     "name": "stdout",
     "output_type": "stream",
     "text": [
      "Confusion Matrix:\n",
      "[[938  98]\n",
      " [177 196]]\n",
      "\n",
      "Classification Report:\n",
      "              precision    recall  f1-score   support\n",
      "\n",
      "           0       0.84      0.91      0.87      1036\n",
      "           1       0.67      0.53      0.59       373\n",
      "\n",
      "    accuracy                           0.80      1409\n",
      "   macro avg       0.75      0.72      0.73      1409\n",
      "weighted avg       0.80      0.80      0.80      1409\n",
      "\n"
     ]
    }
   ],
   "source": [
    "from sklearn.metrics import classification_report, confusion_matrix\n",
    "\n",
    "# Predict\n",
    "y_pred = grid_search.predict(X_test)\n",
    "\n",
    "# Evaluate\n",
    "print(\"Confusion Matrix:\")\n",
    "print(confusion_matrix(y_test, y_pred))\n",
    "\n",
    "print(\"\\nClassification Report:\")\n",
    "print(classification_report(y_test, y_pred))\n"
   ]
  },
  {
   "cell_type": "markdown",
   "id": "6bfdbca8",
   "metadata": {},
   "source": [
    "**Visualizations** "
   ]
  },
  {
   "cell_type": "code",
   "execution_count": 16,
   "id": "d1f0029e",
   "metadata": {},
   "outputs": [
    {
     "data": {
      "image/png": "[encoded data removed]",
      "text/plain": [
       "<Figure size 1000x800 with 1 Axes>"
      ]
     },
     "metadata": {},
     "output_type": "display_data"
    }
   ],
   "source": [
    "import matplotlib.pyplot as plt\n",
    "import numpy as np\n",
    "\n",
    "# Feature importance\n",
    "best_model = grid_search.best_estimator_.named_steps['classifier']\n",
    "\n",
    "importances = best_model.feature_importances_\n",
    "onehot_features = list(\n",
    "    grid_search.best_estimator_.named_steps['preprocessor']\n",
    "    .transformers_[1][1]\n",
    "    .named_steps['encoder']\n",
    "    .get_feature_names_out(categorical_features)\n",
    ")\n",
    "\n",
    "all_features = numeric_features + onehot_features\n",
    "\n",
    "# Plot top 20 features\n",
    "plt.figure(figsize=(10, 8))\n",
    "indices = np.argsort(importances)[::-1][:20]\n",
    "plt.barh(range(len(indices)), importances[indices], align='center')\n",
    "plt.yticks(range(len(indices)), [all_features[i] for i in indices])\n",
    "plt.title(\"Top 20 Feature Importances (Random Forest)\")\n",
    "plt.gca().invert_yaxis()\n",
    "plt.show()\n"
   ]
  },
  {
   "cell_type": "markdown",
   "id": "a5f96120",
   "metadata": {},
   "source": [
    "**Export Final Pipeline**"
   ]
  },
  {
   "cell_type": "code",
   "execution_count": 17,
   "id": "80bfcbd7",
   "metadata": {},
   "outputs": [
    {
     "data": {
      "text/plain": [
       "['telco_churn_pipeline.pkl']"
      ]
     },
     "execution_count": 17,
     "metadata": {},
     "output_type": "execute_result"
    }
   ],
   "source": [
    "import joblib\n",
    "\n",
    "# Save final model pipeline\n",
    "joblib.dump(grid_search.best_estimator_, 'telco_churn_pipeline.pkl')\n"
   ]
  },
  {
   "cell_type": "markdown",
   "id": "b5c82f73",
   "metadata": {},
   "source": [
    "**prediction**"
   ]
  },
  {
   "cell_type": "code",
   "execution_count": 19,
   "id": "17159923",
   "metadata": {},
   "outputs": [
    {
     "name": "stdout",
     "output_type": "stream",
     "text": [
      "Churn Prediction: Yes\n"
     ]
    }
   ],
   "source": [
    "import pandas as pd\n",
    "\n",
    "# Define a new customer (matching the original feature columns)\n",
    "new_customer = pd.DataFrame([{\n",
    "    'gender': 'Female',\n",
    "    'SeniorCitizen': 0,\n",
    "    'Partner': 'Yes',\n",
    "    'Dependents': 'No',\n",
    "    'tenure': 5,\n",
    "    'PhoneService': 'Yes',\n",
    "    'MultipleLines': 'No',\n",
    "    'InternetService': 'Fiber optic',\n",
    "    'OnlineSecurity': 'No',\n",
    "    'OnlineBackup': 'Yes',\n",
    "    'DeviceProtection': 'No',\n",
    "    'TechSupport': 'No',\n",
    "    'StreamingTV': 'Yes',\n",
    "    'StreamingMovies': 'No',\n",
    "    'Contract': 'Month-to-month',\n",
    "    'PaperlessBilling': 'Yes',\n",
    "    'PaymentMethod': 'Electronic check',\n",
    "    'MonthlyCharges': 75.35,\n",
    "    'TotalCharges': 350.5\n",
    "}])\n",
    "\n",
    "# Predict using the trained pipeline\n",
    "prediction = grid_search.predict(new_customer)\n",
    "\n",
    "# Show result\n",
    "print(\"Churn Prediction:\", \"Yes\" if prediction[0] == 1 else \"No\")\n"
   ]
  },
  {
   "cell_type": "code",
   "execution_count": 20,
   "id": "f5b6078a",
   "metadata": {},
   "outputs": [
    {
     "name": "stdout",
     "output_type": "stream",
     "text": [
      "Churn Prediction: Yes\n"
     ]
    }
   ],
   "source": [
    "import pandas as pd\n",
    "\n",
    "new_customer = pd.DataFrame([{\n",
    "    'gender': 'Female',\n",
    "    'SeniorCitizen': 0,\n",
    "    'Partner': 'Yes',\n",
    "    'Dependents': 'No',\n",
    "    'tenure': 3,\n",
    "    'PhoneService': 'Yes',\n",
    "    'MultipleLines': 'No',\n",
    "    'InternetService': 'Fiber optic',\n",
    "    'OnlineSecurity': 'No',\n",
    "    'OnlineBackup': 'Yes',\n",
    "    'DeviceProtection': 'No',\n",
    "    'TechSupport': 'No',\n",
    "    'StreamingTV': 'Yes',\n",
    "    'StreamingMovies': 'No',\n",
    "    'Contract': 'Month-to-month',\n",
    "    'PaperlessBilling': 'Yes',\n",
    "    'PaymentMethod': 'Electronic check',\n",
    "    'MonthlyCharges': 78.5,\n",
    "    'TotalCharges': 210.3\n",
    "}])\n",
    "\n",
    "prediction = grid_search.predict(new_customer)\n",
    "\n",
    "print(\"Churn Prediction:\", \"Yes\" if prediction[0] == 1 else \"No\")\n"
   ]
  }
 ],
 "metadata": {
  "kernelspec": {
   "display_name": "base",
   "language": "python",
   "name": "python3"
  },
  "language_info": {
   "codemirror_mode": {
    "name": "ipython",
    "version": 3
   },
   "file_extension": ".py",
   "mimetype": "text/x-python",
   "name": "python",
   "nbconvert_exporter": "python",
   "pygments_lexer": "ipython3",
   "version": "3.12.7"
  }
 },
 "nbformat": 4,
 "nbformat_minor": 5
}
